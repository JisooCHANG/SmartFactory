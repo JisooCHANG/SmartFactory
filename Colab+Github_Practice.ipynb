{
  "nbformat": 4,
  "nbformat_minor": 0,
  "metadata": {
    "colab": {
      "name": "Colab+Github Practice.ipynb",
      "provenance": [],
      "collapsed_sections": [],
      "authorship_tag": "ABX9TyNRJzkXf+zhO9ZAaJJ6lM4o",
      "include_colab_link": true
    },
    "kernelspec": {
      "name": "python3",
      "display_name": "Python 3"
    },
    "language_info": {
      "name": "python"
    }
  },
  "cells": [
    {
      "cell_type": "markdown",
      "metadata": {
        "id": "view-in-github",
        "colab_type": "text"
      },
      "source": [
        "<a href=\"https://colab.research.google.com/github/JisooCHANG/SmartFactory/blob/main/Colab%2BGithub_Practice.ipynb\" target=\"_parent\"><img src=\"https://colab.research.google.com/assets/colab-badge.svg\" alt=\"Open In Colab\"/></a>"
      ]
    },
    {
      "cell_type": "markdown",
      "source": [
        "#Colab과 Github 연동하기\n",
        "Let's learn how to use colab and Github together  :)\n",
        "\n"
      ],
      "metadata": {
        "id": "Jr-rHnOPjCqz"
      }
    },
    {
      "cell_type": "code",
      "execution_count": null,
      "metadata": {
        "colab": {
          "base_uri": "https://localhost:8080/"
        },
        "id": "yqod6XLZi1jm",
        "outputId": "9ce8323b-28b2-4745-b7cd-bd9c01f7e47d"
      },
      "outputs": [
        {
          "output_type": "stream",
          "name": "stdout",
          "text": [
            "Hello Colab and Github!\n"
          ]
        }
      ],
      "source": [
        "print(\"Hello Colab and Github!\")"
      ]
    }
  ]
}